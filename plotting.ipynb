{
 "cells": [
  {
   "cell_type": "markdown",
   "metadata": {},
   "source": [
    "Some testing for plotting solutions to Laplace's equation"
   ]
  },
  {
   "cell_type": "code",
   "execution_count": 28,
   "metadata": {},
   "outputs": [],
   "source": [
    "from shapely.geometry import Point\n",
    "from shapely.geometry.polygon import Polygon\n",
    "import geometry\n",
    "import numpy as np\n",
    "import matplotlib.pyplot as plt\n",
    "\n",
    "N = 100\n",
    "\n",
    "g  = geometry.ellipse(N,0,[1,1],[0,0])\n",
    "\n",
    "midpoints = [] \n",
    "for point in g['midpt']:\n",
    "    midpoints.append((point[0],point[1]))\n",
    "\n",
    "polygon = Polygon(midpoints)\n",
    "\n",
    "x = np.linspace(-4,4,100)\n",
    "y = np.linspace(-4,4,100)\n",
    "\n",
    "X,Y = np.meshgrid(x,y)\n",
    "\n",
    "obs = np.array([X.flatten(), Y.flatten()]).T\n",
    "\n",
    "inside = np.zeros(obs.shape[0])\n",
    "\n",
    "i = 0\n",
    "for point in obs:\n",
    "    if polygon.contains(Point(point[0],point[1])):\n",
    "        inside[i] = 1\n",
    "    i+=1\n",
    "    "
   ]
  },
  {
   "cell_type": "code",
   "execution_count": null,
   "metadata": {
    "collapsed": true
   },
   "outputs": [],
   "source": []
  }
 ],
 "metadata": {
  "kernelspec": {
   "display_name": "Python 2",
   "language": "python",
   "name": "python2"
  },
  "language_info": {
   "codemirror_mode": {
    "name": "ipython",
    "version": 2
   },
   "file_extension": ".py",
   "mimetype": "text/x-python",
   "name": "python",
   "nbconvert_exporter": "python",
   "pygments_lexer": "ipython2",
   "version": "2.7.12"
  }
 },
 "nbformat": 4,
 "nbformat_minor": 2
}
